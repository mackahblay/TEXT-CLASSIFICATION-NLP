{
 "cells": [
  {
   "cell_type": "code",
   "execution_count": null,
   "id": "68c18105-9999-4543-b448-ebc862b9835e",
   "metadata": {},
   "outputs": [],
   "source": [
    "### Melchizedek Ackah-Blay\n",
    "\n",
    "December 10, 2024\n",
    "\n",
    "**Text Classification N"
   ]
  },
  {
   "cell_type": "markdown",
   "id": "c7deca9e-9746-40bd-853c-8e60efb7be0a",
   "metadata": {},
   "source": [
    "*importing libraries*"
   ]
  },
  {
   "cell_type": "code",
   "execution_count": 29,
   "id": "8ed7ab87-e5d6-405e-a8b8-f3333ea7c84d",
   "metadata": {},
   "outputs": [],
   "source": [
    "import pandas as pd\n",
    "import numpy as np\n",
    "import matplotlib.pyplot as plt\n",
    "import matplotlib.style as style\n",
    "style.use('ggplot')\n",
    "import seaborn as sns"
   ]
  },
  {
   "cell_type": "markdown",
   "id": "1e478964-19dc-4acc-b76a-3327c348664a",
   "metadata": {},
   "source": [
    "*loading dataset*"
   ]
  },
  {
   "cell_type": "code",
   "execution_count": 32,
   "id": "fa0b3cef-3cdb-46a0-af31-e0f9fe438136",
   "metadata": {},
   "outputs": [],
   "source": [
    "df = pd.read_csv(r'/Users/melki/Desktop/Corona_NLP_train.csv', encoding = 'latin-1')"
   ]
  },
  {
   "cell_type": "markdown",
   "id": "51bd5e2b-9657-4983-b083-48272859942c",
   "metadata": {},
   "source": [
    "*showing sample data*"
   ]
  },
  {
   "cell_type": "code",
   "execution_count": 33,
   "id": "823ccdad-1fe2-4661-87fc-772e641e8535",
   "metadata": {},
   "outputs": [
    {
     "data": {
      "text/html": [
       "<div>\n",
       "<style scoped>\n",
       "    .dataframe tbody tr th:only-of-type {\n",
       "        vertical-align: middle;\n",
       "    }\n",
       "\n",
       "    .dataframe tbody tr th {\n",
       "        vertical-align: top;\n",
       "    }\n",
       "\n",
       "    .dataframe thead th {\n",
       "        text-align: right;\n",
       "    }\n",
       "</style>\n",
       "<table border=\"1\" class=\"dataframe\">\n",
       "  <thead>\n",
       "    <tr style=\"text-align: right;\">\n",
       "      <th></th>\n",
       "      <th>UserName</th>\n",
       "      <th>ScreenName</th>\n",
       "      <th>Location</th>\n",
       "      <th>TweetAt</th>\n",
       "      <th>OriginalTweet</th>\n",
       "      <th>Sentiment</th>\n",
       "    </tr>\n",
       "  </thead>\n",
       "  <tbody>\n",
       "    <tr>\n",
       "      <th>40515</th>\n",
       "      <td>44314</td>\n",
       "      <td>89266</td>\n",
       "      <td>NaN</td>\n",
       "      <td>13-04-2020</td>\n",
       "      <td>Consumer behavior post coronavirus, 5 actions ...</td>\n",
       "      <td>Neutral</td>\n",
       "    </tr>\n",
       "    <tr>\n",
       "      <th>29132</th>\n",
       "      <td>32931</td>\n",
       "      <td>77883</td>\n",
       "      <td>Bangladesh</td>\n",
       "      <td>05-04-2020</td>\n",
       "      <td>spray it\\r\\r\\nIts a 3 panel comic script , sho...</td>\n",
       "      <td>Negative</td>\n",
       "    </tr>\n",
       "    <tr>\n",
       "      <th>36740</th>\n",
       "      <td>40539</td>\n",
       "      <td>85491</td>\n",
       "      <td>England, United Kingdom</td>\n",
       "      <td>10-04-2020</td>\n",
       "      <td>If youÂre an automotive retailer that is unsu...</td>\n",
       "      <td>Negative</td>\n",
       "    </tr>\n",
       "    <tr>\n",
       "      <th>13227</th>\n",
       "      <td>17026</td>\n",
       "      <td>61978</td>\n",
       "      <td>Kansas, USA</td>\n",
       "      <td>21-03-2020</td>\n",
       "      <td>WOH NEVER WORRY AGAIN But make sure the cat do...</td>\n",
       "      <td>Extremely Positive</td>\n",
       "    </tr>\n",
       "    <tr>\n",
       "      <th>5507</th>\n",
       "      <td>9306</td>\n",
       "      <td>54258</td>\n",
       "      <td>California, USA</td>\n",
       "      <td>19-03-2020</td>\n",
       "      <td>@AlyssaSelogie United States:\\r\\r\\nOctober 201...</td>\n",
       "      <td>Negative</td>\n",
       "    </tr>\n",
       "  </tbody>\n",
       "</table>\n",
       "</div>"
      ],
      "text/plain": [
       "       UserName  ScreenName                 Location     TweetAt  \\\n",
       "40515     44314       89266                      NaN  13-04-2020   \n",
       "29132     32931       77883               Bangladesh  05-04-2020   \n",
       "36740     40539       85491  England, United Kingdom  10-04-2020   \n",
       "13227     17026       61978              Kansas, USA  21-03-2020   \n",
       "5507       9306       54258          California, USA  19-03-2020   \n",
       "\n",
       "                                           OriginalTweet           Sentiment  \n",
       "40515  Consumer behavior post coronavirus, 5 actions ...             Neutral  \n",
       "29132  spray it\\r\\r\\nIts a 3 panel comic script , sho...            Negative  \n",
       "36740  If youÂre an automotive retailer that is unsu...            Negative  \n",
       "13227  WOH NEVER WORRY AGAIN But make sure the cat do...  Extremely Positive  \n",
       "5507   @AlyssaSelogie United States:\\r\\r\\nOctober 201...            Negative  "
      ]
     },
     "execution_count": 33,
     "metadata": {},
     "output_type": "execute_result"
    }
   ],
   "source": [
    "df.sample(5)"
   ]
  },
  {
   "cell_type": "markdown",
   "id": "387aa02e-f17b-4d94-ab6d-3a69c3a892b6",
   "metadata": {},
   "source": [
    "*showing shape of data*"
   ]
  },
  {
   "cell_type": "code",
   "execution_count": 35,
   "id": "1832ba36-f018-465b-9966-94cdfa0370c2",
   "metadata": {},
   "outputs": [
    {
     "data": {
      "text/plain": [
       "(41157, 6)"
      ]
     },
     "execution_count": 35,
     "metadata": {},
     "output_type": "execute_result"
    }
   ],
   "source": [
    "df.shape"
   ]
  },
  {
   "cell_type": "markdown",
   "id": "6142386d-b36c-4822-baea-37784128676a",
   "metadata": {},
   "source": [
    "*showing summary information*"
   ]
  },
  {
   "cell_type": "code",
   "execution_count": 36,
   "id": "d90c2fb4-300f-4403-a0dc-9bf92198f145",
   "metadata": {},
   "outputs": [
    {
     "name": "stdout",
     "output_type": "stream",
     "text": [
      "<class 'pandas.core.frame.DataFrame'>\n",
      "RangeIndex: 41157 entries, 0 to 41156\n",
      "Data columns (total 6 columns):\n",
      " #   Column         Non-Null Count  Dtype \n",
      "---  ------         --------------  ----- \n",
      " 0   UserName       41157 non-null  int64 \n",
      " 1   ScreenName     41157 non-null  int64 \n",
      " 2   Location       32567 non-null  object\n",
      " 3   TweetAt        41157 non-null  object\n",
      " 4   OriginalTweet  41157 non-null  object\n",
      " 5   Sentiment      41157 non-null  object\n",
      "dtypes: int64(2), object(4)\n",
      "memory usage: 1.9+ MB\n"
     ]
    }
   ],
   "source": [
    "df.info()"
   ]
  },
  {
   "cell_type": "markdown",
   "id": "28de958c-7f0f-43b0-a733-420787bf730c",
   "metadata": {},
   "source": [
    "*showing summary statistics*"
   ]
  },
  {
   "cell_type": "code",
   "execution_count": 37,
   "id": "27fc2a93-108b-4403-b915-2df08519f976",
   "metadata": {},
   "outputs": [
    {
     "data": {
      "text/html": [
       "<div>\n",
       "<style scoped>\n",
       "    .dataframe tbody tr th:only-of-type {\n",
       "        vertical-align: middle;\n",
       "    }\n",
       "\n",
       "    .dataframe tbody tr th {\n",
       "        vertical-align: top;\n",
       "    }\n",
       "\n",
       "    .dataframe thead th {\n",
       "        text-align: right;\n",
       "    }\n",
       "</style>\n",
       "<table border=\"1\" class=\"dataframe\">\n",
       "  <thead>\n",
       "    <tr style=\"text-align: right;\">\n",
       "      <th></th>\n",
       "      <th>UserName</th>\n",
       "      <th>ScreenName</th>\n",
       "    </tr>\n",
       "  </thead>\n",
       "  <tbody>\n",
       "    <tr>\n",
       "      <th>count</th>\n",
       "      <td>41157.000000</td>\n",
       "      <td>41157.000000</td>\n",
       "    </tr>\n",
       "    <tr>\n",
       "      <th>mean</th>\n",
       "      <td>24377.000000</td>\n",
       "      <td>69329.000000</td>\n",
       "    </tr>\n",
       "    <tr>\n",
       "      <th>std</th>\n",
       "      <td>11881.146851</td>\n",
       "      <td>11881.146851</td>\n",
       "    </tr>\n",
       "    <tr>\n",
       "      <th>min</th>\n",
       "      <td>3799.000000</td>\n",
       "      <td>48751.000000</td>\n",
       "    </tr>\n",
       "    <tr>\n",
       "      <th>25%</th>\n",
       "      <td>14088.000000</td>\n",
       "      <td>59040.000000</td>\n",
       "    </tr>\n",
       "    <tr>\n",
       "      <th>50%</th>\n",
       "      <td>24377.000000</td>\n",
       "      <td>69329.000000</td>\n",
       "    </tr>\n",
       "    <tr>\n",
       "      <th>75%</th>\n",
       "      <td>34666.000000</td>\n",
       "      <td>79618.000000</td>\n",
       "    </tr>\n",
       "    <tr>\n",
       "      <th>max</th>\n",
       "      <td>44955.000000</td>\n",
       "      <td>89907.000000</td>\n",
       "    </tr>\n",
       "  </tbody>\n",
       "</table>\n",
       "</div>"
      ],
      "text/plain": [
       "           UserName    ScreenName\n",
       "count  41157.000000  41157.000000\n",
       "mean   24377.000000  69329.000000\n",
       "std    11881.146851  11881.146851\n",
       "min     3799.000000  48751.000000\n",
       "25%    14088.000000  59040.000000\n",
       "50%    24377.000000  69329.000000\n",
       "75%    34666.000000  79618.000000\n",
       "max    44955.000000  89907.000000"
      ]
     },
     "execution_count": 37,
     "metadata": {},
     "output_type": "execute_result"
    }
   ],
   "source": [
    "df.describe()"
   ]
  },
  {
   "cell_type": "markdown",
   "id": "c53c4768-3e52-4fa4-9cce-6213c24af7a8",
   "metadata": {},
   "source": [
    "*looking for null values*"
   ]
  },
  {
   "cell_type": "code",
   "execution_count": 38,
   "id": "dd3feb2e-72e0-48f7-b33b-3fe8fc0108fa",
   "metadata": {},
   "outputs": [
    {
     "data": {
      "text/plain": [
       "UserName            0\n",
       "ScreenName          0\n",
       "Location         8590\n",
       "TweetAt             0\n",
       "OriginalTweet       0\n",
       "Sentiment           0\n",
       "dtype: int64"
      ]
     },
     "execution_count": 38,
     "metadata": {},
     "output_type": "execute_result"
    }
   ],
   "source": [
    "df.isna().sum()"
   ]
  },
  {
   "cell_type": "markdown",
   "id": "bd90ed8a-6f7b-4a0a-9d43-47f1797245c9",
   "metadata": {},
   "source": [
    "*analyzing tweets by location*"
   ]
  },
  {
   "cell_type": "code",
   "execution_count": 46,
   "id": "5e22d3be-adbd-426f-a493-47433bf62d34",
   "metadata": {},
   "outputs": [
    {
     "data": {
      "text/html": [
       "<div>\n",
       "<style scoped>\n",
       "    .dataframe tbody tr th:only-of-type {\n",
       "        vertical-align: middle;\n",
       "    }\n",
       "\n",
       "    .dataframe tbody tr th {\n",
       "        vertical-align: top;\n",
       "    }\n",
       "\n",
       "    .dataframe thead th {\n",
       "        text-align: right;\n",
       "    }\n",
       "</style>\n",
       "<table border=\"1\" class=\"dataframe\">\n",
       "  <thead>\n",
       "    <tr style=\"text-align: right;\">\n",
       "      <th></th>\n",
       "      <th>count</th>\n",
       "    </tr>\n",
       "    <tr>\n",
       "      <th>Location</th>\n",
       "      <th></th>\n",
       "    </tr>\n",
       "  </thead>\n",
       "  <tbody>\n",
       "    <tr>\n",
       "      <th>London</th>\n",
       "      <td>540</td>\n",
       "    </tr>\n",
       "    <tr>\n",
       "      <th>United States</th>\n",
       "      <td>528</td>\n",
       "    </tr>\n",
       "    <tr>\n",
       "      <th>London, England</th>\n",
       "      <td>520</td>\n",
       "    </tr>\n",
       "    <tr>\n",
       "      <th>New York, NY</th>\n",
       "      <td>395</td>\n",
       "    </tr>\n",
       "    <tr>\n",
       "      <th>Washington, DC</th>\n",
       "      <td>373</td>\n",
       "    </tr>\n",
       "    <tr>\n",
       "      <th>United Kingdom</th>\n",
       "      <td>337</td>\n",
       "    </tr>\n",
       "    <tr>\n",
       "      <th>Los Angeles, CA</th>\n",
       "      <td>281</td>\n",
       "    </tr>\n",
       "    <tr>\n",
       "      <th>India</th>\n",
       "      <td>268</td>\n",
       "    </tr>\n",
       "    <tr>\n",
       "      <th>UK</th>\n",
       "      <td>232</td>\n",
       "    </tr>\n",
       "    <tr>\n",
       "      <th>Australia</th>\n",
       "      <td>225</td>\n",
       "    </tr>\n",
       "  </tbody>\n",
       "</table>\n",
       "</div>"
      ],
      "text/plain": [
       "                 count\n",
       "Location              \n",
       "London             540\n",
       "United States      528\n",
       "London, England    520\n",
       "New York, NY       395\n",
       "Washington, DC     373\n",
       "United Kingdom     337\n",
       "Los Angeles, CA    281\n",
       "India              268\n",
       "UK                 232\n",
       "Australia          225"
      ]
     },
     "execution_count": 46,
     "metadata": {},
     "output_type": "execute_result"
    }
   ],
   "source": [
    "location_data = df['Location'].value_counts().sort_values(ascending = False)\n",
    "pd.DataFrame(location_data.head(10))"
   ]
  },
  {
   "cell_type": "markdown",
   "id": "b19c6916-4b45-4795-8fad-e39b15c30613",
   "metadata": {},
   "source": [
    "*top 5 locations visualized*"
   ]
  },
  {
   "cell_type": "code",
   "execution_count": 59,
   "id": "8e7d909f-655b-40fb-b431-c48929f2bc76",
   "metadata": {},
   "outputs": [
    {
     "data": {
      "image/png": "[encoded data removed]",
      "text/plain": [
       "<Figure size 640x480 with 1 Axes>"
      ]
     },
     "metadata": {},
     "output_type": "display_data"
    }
   ],
   "source": [
    "plt.title('Top 5 Locations by Tweets', fontsize = 11)\n",
    "location_data.head(5).plot(kind = 'pie', autopct = '%1.1f%%')\n",
    "plt.ylabel('')\n",
    "plt.show()"
   ]
  },
  {
   "cell_type": "markdown",
   "id": "85083887-bea5-40eb-9bd0-2b35bd189789",
   "metadata": {},
   "source": [
    "*analyzing sentiment values*"
   ]
  },
  {
   "cell_type": "code",
   "execution_count": 49,
   "id": "e924007a-4e1c-4be0-8573-93e9decbd3e2",
   "metadata": {},
   "outputs": [
    {
     "data": {
      "text/html": [
       "<div>\n",
       "<style scoped>\n",
       "    .dataframe tbody tr th:only-of-type {\n",
       "        vertical-align: middle;\n",
       "    }\n",
       "\n",
       "    .dataframe tbody tr th {\n",
       "        vertical-align: top;\n",
       "    }\n",
       "\n",
       "    .dataframe thead th {\n",
       "        text-align: right;\n",
       "    }\n",
       "</style>\n",
       "<table border=\"1\" class=\"dataframe\">\n",
       "  <thead>\n",
       "    <tr style=\"text-align: right;\">\n",
       "      <th></th>\n",
       "      <th>count</th>\n",
       "    </tr>\n",
       "    <tr>\n",
       "      <th>sentiment</th>\n",
       "      <th></th>\n",
       "    </tr>\n",
       "  </thead>\n",
       "  <tbody>\n",
       "    <tr>\n",
       "      <th>Positive</th>\n",
       "      <td>11422</td>\n",
       "    </tr>\n",
       "    <tr>\n",
       "      <th>Negative</th>\n",
       "      <td>9917</td>\n",
       "    </tr>\n",
       "    <tr>\n",
       "      <th>Neutral</th>\n",
       "      <td>7713</td>\n",
       "    </tr>\n",
       "    <tr>\n",
       "      <th>Extremely Positive</th>\n",
       "      <td>6624</td>\n",
       "    </tr>\n",
       "    <tr>\n",
       "      <th>Extremely Negative</th>\n",
       "      <td>5481</td>\n",
       "    </tr>\n",
       "  </tbody>\n",
       "</table>\n",
       "</div>"
      ],
      "text/plain": [
       "                    count\n",
       "sentiment                \n",
       "Positive            11422\n",
       "Negative             9917\n",
       "Neutral              7713\n",
       "Extremely Positive   6624\n",
       "Extremely Negative   5481"
      ]
     },
     "execution_count": 49,
     "metadata": {},
     "output_type": "execute_result"
    }
   ],
   "source": [
    "sentiment_data = df['sentiment'].value_counts(ascending = False)\n",
    "pd.DataFrame(sentiment_data)"
   ]
  },
  {
   "cell_type": "code",
   "execution_count": 54,
   "id": "e39a40be-eadb-439a-8854-4172e5e8430b",
   "metadata": {},
   "outputs": [
    {
     "data": {
      "image/png": "[encoded data removed]",
      "text/plain": [
       "<Figure size 1300x300 with 1 Axes>"
      ]
     },
     "metadata": {},
     "output_type": "display_data"
    }
   ],
   "source": [
    "plt.figure(figsize = (13, 3))\n",
    "sentiment_data.plot(kind = 'barh', color = ['yellow', 'green','pink', 'navy', 'skyblue'], edgecolor = 'black')\n",
    "plt.title('\\nSentiment Distribution\\n', fontsize = 11)\n",
    "plt.xlabel('\\nCount', fontsize = 9.5)\n",
    "plt.ylabel('Sentiment', fontsize = 9.5)\n",
    "plt.show()"
   ]
  },
  {
   "cell_type": "markdown",
   "id": "318ae749-6da2-440c-8e8e-5bf382a3ca17",
   "metadata": {},
   "source": [
    "*dropping columns not neeeded for machine learning*"
   ]
  },
  {
   "cell_type": "code",
   "execution_count": 62,
   "id": "4a50c324-bd5e-4666-bd06-e0deb357be98",
   "metadata": {},
   "outputs": [],
   "source": [
    "df.drop(columns = ['username','screenname', 'location', 'tweetat'], inplace = True)"
   ]
  },
  {
   "cell_type": "markdown",
   "id": "0c53e1ee-296e-4782-b472-c274c3460106",
   "metadata": {},
   "source": [
    "*original tweets analysis*"
   ]
  },
  {
   "cell_type": "code",
   "execution_count": 64,
   "id": "0de5fd8c-2d2b-4f89-85b7-7970b9652952",
   "metadata": {},
   "outputs": [],
   "source": [
    "blanks = []\n",
    "for i in df['originaltweet']:\n",
    "    if i.isspace() == True:\n",
    "        blanks.append(i)"
   ]
  },
  {
   "cell_type": "code",
   "execution_count": 65,
   "id": "de5446dd-dea9-4192-962d-e81bff9a038c",
   "metadata": {},
   "outputs": [
    {
     "data": {
      "text/plain": [
       "[]"
      ]
     },
     "execution_count": 65,
     "metadata": {},
     "output_type": "execute_result"
    }
   ],
   "source": [
    "blanks"
   ]
  },
  {
   "cell_type": "markdown",
   "id": "e025cb36-9183-4efc-8879-d201ffbf1f31",
   "metadata": {},
   "source": [
    "*splitting x and y data*"
   ]
  },
  {
   "cell_type": "code",
   "execution_count": 66,
   "id": "195d23e3-9559-4618-a565-757254f1734f",
   "metadata": {},
   "outputs": [],
   "source": [
    "x = df['originaltweet']\n",
    "y = df['sentiment']"
   ]
  },
  {
   "cell_type": "markdown",
   "id": "bcb929a5-8094-4fe0-9f3f-2680f96140b4",
   "metadata": {},
   "source": [
    "*splitting data into train and test*"
   ]
  },
  {
   "cell_type": "code",
   "execution_count": 67,
   "id": "b0951ff7-d9c8-4cc9-8e02-16cf4d4c4956",
   "metadata": {},
   "outputs": [],
   "source": [
    "from sklearn.model_selection import train_test_split as t\n",
    "x_train, x_test, y_train, y_test = t(x, y, test_size = 0.2, random_state = 1)"
   ]
  },
  {
   "cell_type": "code",
   "execution_count": 69,
   "id": "23f33c80-76c4-4b18-9392-6b434a77245f",
   "metadata": {},
   "outputs": [],
   "source": [
    "from sklearn.svm import LinearSVC\n",
    "from sklearn.pipeline import Pipeline\n",
    "from sklearn.feature_extraction.text import TfidfVectorizer"
   ]
  },
  {
   "cell_type": "code",
   "execution_count": 70,
   "id": "fef1b5a3-9206-41fd-a3b8-fda9f8f3f9aa",
   "metadata": {},
   "outputs": [],
   "source": [
    "textclf = Pipeline(\n",
    "    [\n",
    "        ('tfidf', TfidfVectorizer()),\n",
    "        ('clf', LinearSVC())\n",
    "    ]\n",
    ")"
   ]
  },
  {
   "cell_type": "code",
   "execution_count": 71,
   "id": "d30d558e-a01f-44e4-b5a3-049092cdeb4c",
   "metadata": {},
   "outputs": [
    {
     "data": {
      "text/html": [
       "<style>#sk-container-id-1 {color: black;background-color: white;}#sk-container-id-1 pre{padding: 0;}#sk-container-id-1 div.sk-toggleable {background-color: white;}#sk-container-id-1 label.sk-toggleable__label {cursor: pointer;display: block;width: 100%;margin-bottom: 0;padding: 0.3em;box-sizing: border-box;text-align: center;}#sk-container-id-1 label.sk-toggleable__label-arrow:before {content: \"▸\";float: left;margin-right: 0.25em;color: #696969;}#sk-container-id-1 label.sk-toggleable__label-arrow:hover:before {color: black;}#sk-container-id-1 div.sk-estimator:hover label.sk-toggleable__label-arrow:before {color: black;}#sk-container-id-1 div.sk-toggleable__content {max-height: 0;max-width: 0;overflow: hidden;text-align: left;background-color: #f0f8ff;}#sk-container-id-1 div.sk-toggleable__content pre {margin: 0.2em;color: black;border-radius: 0.25em;background-color: #f0f8ff;}#sk-container-id-1 input.sk-toggleable__control:checked~div.sk-toggleable__content {max-height: 200px;max-width: 100%;overflow: auto;}#sk-container-id-1 input.sk-toggleable__control:checked~label.sk-toggleable__label-arrow:before {content: \"▾\";}#sk-container-id-1 div.sk-estimator input.sk-toggleable__control:checked~label.sk-toggleable__label {background-color: #d4ebff;}#sk-container-id-1 div.sk-label input.sk-toggleable__control:checked~label.sk-toggleable__label {background-color: #d4ebff;}#sk-container-id-1 input.sk-hidden--visually {border: 0;clip: rect(1px 1px 1px 1px);clip: rect(1px, 1px, 1px, 1px);height: 1px;margin: -1px;overflow: hidden;padding: 0;position: absolute;width: 1px;}#sk-container-id-1 div.sk-estimator {font-family: monospace;background-color: #f0f8ff;border: 1px dotted black;border-radius: 0.25em;box-sizing: border-box;margin-bottom: 0.5em;}#sk-container-id-1 div.sk-estimator:hover {background-color: #d4ebff;}#sk-container-id-1 div.sk-parallel-item::after {content: \"\";width: 100%;border-bottom: 1px solid gray;flex-grow: 1;}#sk-container-id-1 div.sk-label:hover label.sk-toggleable__label {background-color: #d4ebff;}#sk-container-id-1 div.sk-serial::before {content: \"\";position: absolute;border-left: 1px solid gray;box-sizing: border-box;top: 0;bottom: 0;left: 50%;z-index: 0;}#sk-container-id-1 div.sk-serial {display: flex;flex-direction: column;align-items: center;background-color: white;padding-right: 0.2em;padding-left: 0.2em;position: relative;}#sk-container-id-1 div.sk-item {position: relative;z-index: 1;}#sk-container-id-1 div.sk-parallel {display: flex;align-items: stretch;justify-content: center;background-color: white;position: relative;}#sk-container-id-1 div.sk-item::before, #sk-container-id-1 div.sk-parallel-item::before {content: \"\";position: absolute;border-left: 1px solid gray;box-sizing: border-box;top: 0;bottom: 0;left: 50%;z-index: -1;}#sk-container-id-1 div.sk-parallel-item {display: flex;flex-direction: column;z-index: 1;position: relative;background-color: white;}#sk-container-id-1 div.sk-parallel-item:first-child::after {align-self: flex-end;width: 50%;}#sk-container-id-1 div.sk-parallel-item:last-child::after {align-self: flex-start;width: 50%;}#sk-container-id-1 div.sk-parallel-item:only-child::after {width: 0;}#sk-container-id-1 div.sk-dashed-wrapped {border: 1px dashed gray;margin: 0 0.4em 0.5em 0.4em;box-sizing: border-box;padding-bottom: 0.4em;background-color: white;}#sk-container-id-1 div.sk-label label {font-family: monospace;font-weight: bold;display: inline-block;line-height: 1.2em;}#sk-container-id-1 div.sk-label-container {text-align: center;}#sk-container-id-1 div.sk-container {/* jupyter's `normalize.less` sets `[hidden] { display: none; }` but bootstrap.min.css set `[hidden] { display: none !important; }` so we also need the `!important` here to be able to override the default hidden behavior on the sphinx rendered scikit-learn.org. See: https://github.com/scikit-learn/scikit-learn/issues/21755 */display: inline-block !important;position: relative;}#sk-container-id-1 div.sk-text-repr-fallback {display: none;}</style><div id=\"sk-container-id-1\" class=\"sk-top-container\"><div class=\"sk-text-repr-fallback\"><pre>Pipeline(steps=[(&#x27;tfidf&#x27;, TfidfVectorizer()), (&#x27;clf&#x27;, LinearSVC())])</pre><b>In a Jupyter environment, please rerun this cell to show the HTML representation or trust the notebook. <br />On GitHub, the HTML representation is unable to render, please try loading this page with nbviewer.org.</b></div><div class=\"sk-container\" hidden><div class=\"sk-item sk-dashed-wrapped\"><div class=\"sk-label-container\"><div class=\"sk-label sk-toggleable\"><input class=\"sk-toggleable__control sk-hidden--visually\" id=\"sk-estimator-id-1\" type=\"checkbox\" ><label for=\"sk-estimator-id-1\" class=\"sk-toggleable__label sk-toggleable__label-arrow\">Pipeline</label><div class=\"sk-toggleable__content\"><pre>Pipeline(steps=[(&#x27;tfidf&#x27;, TfidfVectorizer()), (&#x27;clf&#x27;, LinearSVC())])</pre></div></div></div><div class=\"sk-serial\"><div class=\"sk-item\"><div class=\"sk-estimator sk-toggleable\"><input class=\"sk-toggleable__control sk-hidden--visually\" id=\"sk-estimator-id-2\" type=\"checkbox\" ><label for=\"sk-estimator-id-2\" class=\"sk-toggleable__label sk-toggleable__label-arrow\">TfidfVectorizer</label><div class=\"sk-toggleable__content\"><pre>TfidfVectorizer()</pre></div></div></div><div class=\"sk-item\"><div class=\"sk-estimator sk-toggleable\"><input class=\"sk-toggleable__control sk-hidden--visually\" id=\"sk-estimator-id-3\" type=\"checkbox\" ><label for=\"sk-estimator-id-3\" class=\"sk-toggleable__label sk-toggleable__label-arrow\">LinearSVC</label><div class=\"sk-toggleable__content\"><pre>LinearSVC()</pre></div></div></div></div></div></div></div>"
      ],
      "text/plain": [
       "Pipeline(steps=[('tfidf', TfidfVectorizer()), ('clf', LinearSVC())])"
      ]
     },
     "execution_count": 71,
     "metadata": {},
     "output_type": "execute_result"
    }
   ],
   "source": [
    "textclf.fit(x_train, y_train)"
   ]
  },
  {
   "cell_type": "markdown",
   "id": "b04c2bf1-6333-479b-9587-6f4d01bd258d",
   "metadata": {},
   "source": [
    "*making predictions and evaluating model*"
   ]
  },
  {
   "cell_type": "code",
   "execution_count": 72,
   "id": "d57112e9-99fb-4362-a2fc-4a63ae81d258",
   "metadata": {},
   "outputs": [],
   "source": [
    "from sklearn.metrics import accuracy_score, confusion_matrix, ConfusionMatrixDisplay\n",
    "y_pred = textclf.predict(x_test)"
   ]
  },
  {
   "cell_type": "code",
   "execution_count": 73,
   "id": "e6ef6fbd-e31f-4c77-a9f9-cbc396416895",
   "metadata": {},
   "outputs": [
    {
     "data": {
      "text/plain": [
       "0.5699708454810496"
      ]
     },
     "execution_count": 73,
     "metadata": {},
     "output_type": "execute_result"
    }
   ],
   "source": [
    "accuracy_score(y_test, y_pred)"
   ]
  },
  {
   "cell_type": "code",
   "execution_count": 74,
   "id": "85877368-1669-46b3-9012-27c56a6355bc",
   "metadata": {},
   "outputs": [
    {
     "data": {
      "text/plain": [
       "array([[ 711,    6,  298,   31,   41],\n",
       "       [   4,  891,   50,   42,  344],\n",
       "       [ 378,   53,  930,  267,  376],\n",
       "       [  22,   30,  208, 1003,  291],\n",
       "       [  60,  427,  353,  259, 1157]])"
      ]
     },
     "execution_count": 74,
     "metadata": {},
     "output_type": "execute_result"
    }
   ],
   "source": [
    "cm = confusion_matrix(y_test, y_pred)\n",
    "cm"
   ]
  },
  {
   "cell_type": "code",
   "execution_count": 78,
   "id": "b9385e44-faf2-44fc-92c1-368bbc7d3b6d",
   "metadata": {},
   "outputs": [
    {
     "data": {
      "image/png": "[encoded data removed]",
      "text/plain": [
       "<Figure size 640x480 with 2 Axes>"
      ]
     },
     "metadata": {},
     "output_type": "display_data"
    }
   ],
   "source": [
    "cm_visualized = ConfusionMatrixDisplay(confusion_matrix = cm)\n",
    "cm_visualized.plot()\n",
    "plt.show()"
   ]
  },
  {
   "cell_type": "markdown",
   "id": "2ca4479e-4a8f-4e17-bf73-2c79ed138fdc",
   "metadata": {},
   "source": [
    "*experimenting with the model*"
   ]
  },
  {
   "cell_type": "code",
   "execution_count": 79,
   "id": "20c475bb-a84d-4f4c-a564-4a78883157dc",
   "metadata": {},
   "outputs": [
    {
     "data": {
      "text/plain": [
       "array(['Positive'], dtype=object)"
      ]
     },
     "execution_count": 79,
     "metadata": {},
     "output_type": "execute_result"
    }
   ],
   "source": [
    "new_tweet = [('it is a warm, sunny, summer day')]\n",
    "textclf.predict(new_tweet)"
   ]
  },
  {
   "cell_type": "code",
   "execution_count": null,
   "id": "d36113d9-1f0d-40c9-9be4-23d13c238659",
   "metadata": {},
   "outputs": [],
   "source": []
  },
  {
   "cell_type": "code",
   "execution_count": 80,
   "id": "22e4347c-3658-4b1e-8095-8e6a8b5671fd",
   "metadata": {},
   "outputs": [
    {
     "data": {
      "text/plain": [
       "array(['Extremely Positive'], dtype=object)"
      ]
     },
     "execution_count": 80,
     "metadata": {},
     "output_type": "execute_result"
    }
   ],
   "source": [
    "new_tweet = [('the weather was nice but could have been much better')]\n",
    "textclf.predict(new_tweet)"
   ]
  },
  {
   "cell_type": "code",
   "execution_count": 82,
   "id": "9df365c6-264d-41ae-acc3-9c0b5473cb89",
   "metadata": {},
   "outputs": [
    {
     "data": {
      "text/plain": [
       "array(['Extremely Negative'], dtype=object)"
      ]
     },
     "execution_count": 82,
     "metadata": {},
     "output_type": "execute_result"
    }
   ],
   "source": [
    "new_tweet = [('it rained all day, i hated it!')]\n",
    "textclf.predict(new_tweet)"
   ]
  }
 ],
 "metadata": {
  "kernelspec": {
   "display_name": "Python 3 (ipykernel)",
   "language": "python",
   "name": "python3"
  },
  "language_info": {
   "codemirror_mode": {
    "name": "ipython",
    "version": 3
   },
   "file_extension": ".py",
   "mimetype": "text/x-python",
   "name": "python",
   "nbconvert_exporter": "python",
   "pygments_lexer": "ipython3",
   "version": "3.11.7"
  }
 },
 "nbformat": 4,
 "nbformat_minor": 5
}
